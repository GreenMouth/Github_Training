{
 "cells": [
  {
   "cell_type": "raw",
   "metadata": {},
   "source": [
    "#Author: Prashant Shinde"
   ]
  },
  {
   "cell_type": "raw",
   "metadata": {},
   "source": [
    "We will do 2 sessions of Github Training\n",
    "\n",
    "Session 1: \n",
    "1. What is Github?\n",
    "2. How it can be used in our projects?\n",
    "3. Github knowledge (Reposiotory, public vs private, readme, etc.)\n",
    "4. Github commands (in sequence : clone, add, status, commit, push, etc.)\n",
    "5. Real Time Demo using Python & Terminal (Mac)\n",
    "\n",
    "Session 2:\n",
    "1. Master vs Dev vs Prod branches\n",
    "2. Resolving conflicts\n",
    "3. Setting upstream & downstream\n",
    "4. Advanced git commands (git stash, etc.)"
   ]
  },
  {
   "cell_type": "markdown",
   "metadata": {},
   "source": [
    "Why Github?\n",
    "\n",
    " - Github is for 'Source Control'\n",
    "\n",
    " - Multiple people can work on same project without having any conflict\n",
    " \n",
    "- Github helps handle conflicts / file changes by providing you detailed view of all the changes done by all team members for a given project\n",
    "\n",
    "** Note from previous experience: \n",
    " - Mostly in 1 huge project, each team member is working on 1 piece of the project\n",
    "\n",
    "Example: A Machine Learning Product\n",
    "1. Person A: working on SQL\n",
    "2. Person B: working on feature Engineering\n",
    "3. Person C: Working on Modeling\n",
    "4. Person D: Working on Code Testing (exception handling / pressure testing)\n",
    "5. Person 5: Working on Deployment Code\n"
   ]
  },
  {
   "cell_type": "code",
   "execution_count": 2,
   "metadata": {},
   "outputs": [],
   "source": [
    "# Session 1"
   ]
  },
  {
   "cell_type": "raw",
   "metadata": {},
   "source": [
    "Step A: Creating a Repository on Github\n",
    "    \n",
    "    1. Go to https://github.com/ & create an Account\n",
    "    2. Go to Repositories (layman words: Projects)\n",
    "    3. Click on 'New'\n",
    "    4. Provide Repository Name: \"Breast_Cancer_Classification\"\n",
    "    5. Provide a Description for Repository: \n",
    "        \"Using single perceptron Neural Network to predict if a breast cancer is Malignant or Benign\"\n",
    "    6. Choose Public vs Private Repo (Choose who can commit)  \n",
    "    7. Check on box: \"Create a repository using Readme file\"\n",
    "    8. Create Repository\n",
    "    \n",
    "Step B: Clone this newly created repository on local using Terminal\n",
    "        (Run only 3 commands on Terminal/cmd: cd, ls & clone)\n",
    "        (clone is your first git command)\n",
    "    \n",
    "    1. Note: You already have 1 file in this repository called \"readme\"\n",
    "    4. Terminal Commands: (mac terminal runs Linux commands - Awesome!!)\n",
    "     a. cd : change directoy (cd Desktop will change dir to Desktop)\n",
    "     b. ls : list all documents available (in that dir)\n",
    "    2. on Terminal (Mac): run below command (URL is Repo URL from Github)\n",
    "    git clone https://github.com/username/Breast_Cancer_Classification\n",
    "    3. Now you have this Repo on your local machine\n",
    "    \n",
    "Step C: Check if you have readme file in cloned repository\n",
    "    1. cd 'Repo Name' (change dir to cloned Repo)\n",
    "    2. ls (looking into cloned Repo now)\n",
    "\n",
    "Step D: Make changes in local repo now\n",
    "    1. Add python code (e.g. Algorithm.ipynb)\n",
    "    2. Add Training Data (e.g. .csv)\n",
    "    \n",
    "Step E: on Terminal:\n",
    "    1. git status \n",
    "    This will tell you difference in files on local vs cloud\n",
    "    (untracked files: in my case there are 3 files:\n",
    "    - Github_Training.ipynb\n",
    "\t- Single_Layer_Perceptron_NN.ipynb\n",
    "\t- breast_data.csv)\n",
    "    2. git add Single_Layer_Perceptron_NN.ipynb\n",
    "       git add Github_Training.ipynb\n",
    "       git add breast_data.csv\n",
    "       Above 3 \"git add\" commands will add all 3 untracked files on  github (cloud)\n",
    "       ** Now do git status:\n",
    "       This time both cloud vs local files will match \n",
    "       So, no untracked files\n",
    "       You will see \"Your branch is up to date with 'origin/master'.\"\n",
    "       \n",
    "Step F: on Terminal:  \n",
    "    git commit -m \"added 3 new files\"\n",
    "    You will see something like below:\n",
    "    \"4 files changed\"\n",
    "    Now all changes have been \"commited\" but its still on my machine\n",
    "    Its locked up in the repository but not synched up with Github.com\n",
    "    Now do: \"git push\"\n",
    "    It will ask you for git credentials: username & password\n",
    "    \n",
    "Step G: All done\n",
    "    Go to Github.com and check if all files are uploaded correctly\n",
    "    "
   ]
  },
  {
   "cell_type": "raw",
   "metadata": {},
   "source": [
    "#All Required commands on terminal (Mac)\n",
    "\n",
    "cd Desktop\n",
    "git clone \"repo URL\"\n",
    "ls\n",
    "(** make changes inside the cloned repo on local)\n",
    "git status\n",
    "git add file1\n",
    "git add file2\n",
    "git commit -m \"message of changes done\"\n",
    "git push"
   ]
  },
  {
   "cell_type": "raw",
   "metadata": {},
   "source": [
    "#Notes: on terminal\n",
    "pwd : will give you present working directory\n",
    "cd .. : Its like saying go 1 directory backwards\n",
    "clear : will provide clear the terminal screen"
   ]
  },
  {
   "cell_type": "raw",
   "metadata": {},
   "source": [
    "About ** git pull\n",
    "\n",
    "Lets say: \n",
    "Person A did all the above work and pushed all new changes to cloud\n",
    "And assume person B only has readme file in his local & is unaware of all the changes done by person A \n",
    "\n",
    "so person B will do:\n",
    "git pull \n",
    "git status\n",
    "\n",
    "It will display all the changes made by person A to that repository \n"
   ]
  }
 ],
 "metadata": {
  "kernelspec": {
   "display_name": "Python 3",
   "language": "python",
   "name": "python3"
  },
  "language_info": {
   "codemirror_mode": {
    "name": "ipython",
    "version": 3
   },
   "file_extension": ".py",
   "mimetype": "text/x-python",
   "name": "python",
   "nbconvert_exporter": "python",
   "pygments_lexer": "ipython3",
   "version": "3.7.3"
  }
 },
 "nbformat": 4,
 "nbformat_minor": 2
}
